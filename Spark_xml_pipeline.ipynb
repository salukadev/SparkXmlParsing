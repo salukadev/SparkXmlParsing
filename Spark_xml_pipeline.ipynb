{
 "cells": [
  {
   "cell_type": "code",
   "execution_count": 1,
   "id": "3bf849f4",
   "metadata": {},
   "outputs": [
    {
     "data": {
      "text/plain": [
       "Intitializing Scala interpreter ..."
      ]
     },
     "metadata": {},
     "output_type": "display_data"
    },
    {
     "data": {
      "text/plain": [
       "Spark Web UI available at http://172.29.42.126:4040\n",
       "SparkContext available as 'sc' (version = 3.2.1, master = local[*], app id = local-1645130622294)\n",
       "SparkSession available as 'spark'\n"
      ]
     },
     "metadata": {},
     "output_type": "display_data"
    },
    {
     "data": {
      "text/plain": [
       "import org.apache.spark.sql.SparkSession\n",
       "import org.apache.spark.sql.functions\n",
       "import org.apache.spark.sql.functions._\n",
       "import com.databricks.spark.xml\n",
       "import spark.implicits._\n",
       "sk: org.apache.spark.sql.SparkSession = org.apache.spark.sql.SparkSession@55ca9fa3\n"
      ]
     },
     "execution_count": 1,
     "metadata": {},
     "output_type": "execute_result"
    }
   ],
   "source": [
    "import org.apache.spark.sql.SparkSession\n",
    "import org.apache.spark.sql.functions\n",
    "import org.apache.spark.sql.functions._\n",
    "import com.databricks.spark.xml\n",
    "import spark.implicits._\n",
    "\n",
    "val sk = SparkSession.builder().appName(\"Parsing XML\").master(\"local\").getOrCreate()"
   ]
  },
  {
   "cell_type": "code",
   "execution_count": 2,
   "id": "9031f021",
   "metadata": {},
   "outputs": [
    {
     "name": "stdout",
     "output_type": "stream",
     "text": [
      "+-------------------+--------------------+--------------------+\n",
      "|        _measInfoId|           measTypes|           measValue|\n",
      "+-------------------+--------------------+--------------------+\n",
      "|           LTE_S1AP|M8000C11 M8000C6 ...|{PLMN-PLMN/MRBTS-...|\n",
      "|      LTE_Cell_Load|M8001C0 M8001C1 M...|{PLMN-PLMN/MRBTS-...|\n",
      "| LTE_Transport_Load|M8004C0 M8004C2 M...|{PLMN-PLMN/MRBTS-...|\n",
      "|LTE_Pwr_and_Qual_UL|M8005C345 M8005C5...|{PLMN-PLMN/MRBTS-...|\n",
      "|     LTE_EPS_Bearer|M8006C181 M8006C1...|{PLMN-PLMN/MRBTS-...|\n",
      "|   LTE_Radio_Bearer|M8007C0 M8007C1 M...|{PLMN-PLMN/MRBTS-...|\n",
      "|            LTE_RRC|M8008C1 M8008C3 M...|{PLMN-PLMN/MRBTS-...|\n",
      "|   LTE_Intra_eNB_HO|M8009C0 M8009C1 M...|{PLMN-PLMN/MRBTS-...|\n",
      "|LTE_Pwr_and_Qual_DL|M8010C36 M8010C37...|{PLMN-PLMN/MRBTS-...|\n",
      "|  LTE_Cell_Resource|M8011C86 M8011C95...|{PLMN-PLMN/MRBTS-...|\n",
      "|LTE_Cell_Throughput|M8012C19 M8012C20...|{PLMN-PLMN/MRBTS-...|\n",
      "|       LTE_UE_State|M8013C5 M8013C13 ...|{PLMN-PLMN/MRBTS-...|\n",
      "|   LTE_Inter_eNB_HO|M8014C0 M8014C6 M...|{PLMN-PLMN/MRBTS-...|\n",
      "| LTE_Neighb_Cell_HO|M8015C0 M8015C1 M...|{PLMN-PLMN/MRBTS-...|\n",
      "| LTE_Neighb_Cell_HO|M8015C0 M8015C1 M...|{PLMN-PLMN/MRBTS-...|\n",
      "| LTE_Neighb_Cell_HO|M8015C0 M8015C1 M...|{PLMN-PLMN/MRBTS-...|\n",
      "| LTE_Neighb_Cell_HO|M8015C8 M8015C9 M...|{PLMN-PLMN/MRBTS-...|\n",
      "| LTE_Neighb_Cell_HO|M8015C0 M8015C1 M...|{PLMN-PLMN/MRBTS-...|\n",
      "| LTE_Neighb_Cell_HO|M8015C0 M8015C1 M...|{PLMN-PLMN/MRBTS-...|\n",
      "| LTE_Neighb_Cell_HO|M8015C0 M8015C1 M...|{PLMN-PLMN/MRBTS-...|\n",
      "+-------------------+--------------------+--------------------+\n",
      "only showing top 20 rows\n",
      "\n",
      "root\n",
      " |-- _measInfoId: string (nullable = true)\n",
      " |-- measTypes: string (nullable = true)\n",
      " |-- measValue: struct (nullable = true)\n",
      " |    |-- _measObjLdn: string (nullable = true)\n",
      " |    |-- measResults: string (nullable = true)\n",
      "\n"
     ]
    },
    {
     "data": {
      "text/plain": [
       "origDf: org.apache.spark.sql.DataFrame = [_measInfoId: string, measTypes: string ... 1 more field]\n"
      ]
     },
     "execution_count": 2,
     "metadata": {},
     "output_type": "execute_result"
    }
   ],
   "source": [
    "val origDf = sk.read.format(\"com.databricks.spark.xml\").option(\"rootTag\",\"measData \").option(\"rowTag\",\"measInfo\").load(\"/home/saluka/dmstasks/network.xml\").\n",
    "        drop(\"granPeriod\").drop(\"repPeriod\")\n",
    "\n",
    "origDf.show()\n",
    "origDf.printSchema()"
   ]
  },
  {
   "cell_type": "code",
   "execution_count": 3,
   "id": "6ee08309",
   "metadata": {},
   "outputs": [
    {
     "name": "stdout",
     "output_type": "stream",
     "text": [
      "+-------------------+--------------------+--------------------+\n",
      "|        _measInfoId|           measTypes|         measResults|\n",
      "+-------------------+--------------------+--------------------+\n",
      "|           LTE_S1AP|M8000C11 M8000C6 ...|20284 0 0 0 0 0 0...|\n",
      "|      LTE_Cell_Load|M8001C0 M8001C1 M...|3 294 52 0 0 7172...|\n",
      "| LTE_Transport_Load|M8004C0 M8004C2 M...|60537 788296 1132...|\n",
      "|LTE_Pwr_and_Qual_UL|M8005C345 M8005C5...|-90 1 1 4 2 2 7 1...|\n",
      "|     LTE_EPS_Bearer|M8006C181 M8006C1...|6 23 2 2 0 10 0 0...|\n",
      "|   LTE_Radio_Bearer|M8007C0 M8007C1 M...|38 38 1 1 1 1 32 ...|\n",
      "|            LTE_RRC|M8008C1 M8008C3 M...|20288 16269 2 2 2...|\n",
      "|   LTE_Intra_eNB_HO|M8009C0 M8009C1 M...|1 15 0 0 0 0 0 0 ...|\n",
      "|LTE_Pwr_and_Qual_DL|M8010C36 M8010C37...|26 17 114 377 255...|\n",
      "|  LTE_Cell_Resource|M8011C86 M8011C95...|900 900 900 900 1...|\n",
      "|LTE_Cell_Throughput|M8012C19 M8012C20...|188793 5858527 31...|\n",
      "|       LTE_UE_State|M8013C5 M8013C13 ...|1 3 1 1 1 1 1 1 3...|\n",
      "|   LTE_Inter_eNB_HO|M8014C0 M8014C6 M...|15 15 15 4 4 4 0 ...|\n",
      "| LTE_Neighb_Cell_HO|M8015C0 M8015C1 M...|0 0 0 0 0 0 0 0 0...|\n",
      "| LTE_Neighb_Cell_HO|M8015C0 M8015C1 M...|0 0 0 0 0 0 0 0 0...|\n",
      "| LTE_Neighb_Cell_HO|M8015C0 M8015C1 M...|0 0 0 0 0 0 0 0 0...|\n",
      "| LTE_Neighb_Cell_HO|M8015C8 M8015C9 M...|1 1 0 0 0 0 0 0 0...|\n",
      "| LTE_Neighb_Cell_HO|M8015C0 M8015C1 M...|0 0 0 0 0 0 0 0 0...|\n",
      "| LTE_Neighb_Cell_HO|M8015C0 M8015C1 M...|0 0 0 0 0 0 0 0 0...|\n",
      "| LTE_Neighb_Cell_HO|M8015C0 M8015C1 M...|0 0 0 0 0 0 0 0 0...|\n",
      "+-------------------+--------------------+--------------------+\n",
      "only showing top 20 rows\n",
      "\n"
     ]
    },
    {
     "data": {
      "text/plain": [
       "df2: org.apache.spark.sql.DataFrame = [_measInfoId: string, measTypes: string ... 1 more field]\n"
      ]
     },
     "execution_count": 3,
     "metadata": {},
     "output_type": "execute_result"
    }
   ],
   "source": [
    "// val df2 = origDf.select(\"*\",\"measValue.*\") \n",
    "val df2 = origDf.select(col(\"*\"), col(\"measValue.measResults\").as(\"measResults\")).drop(\"measValue\")\n",
    "df2.show()"
   ]
  },
  {
   "cell_type": "code",
   "execution_count": 12,
   "id": "54f4a6d0",
   "metadata": {},
   "outputs": [
    {
     "name": "stdout",
     "output_type": "stream",
     "text": [
      "+-------------------+--------------------+--------------------+--------------------+\n",
      "|       Meas_Info_Id|          Meas_Types|        Meas_Results|       Types&Results|\n",
      "+-------------------+--------------------+--------------------+--------------------+\n",
      "|           LTE_S1AP|[M8000C11, M8000C...|[20284, 0, 0, 0, ...|[{M8000C11, 20284...|\n",
      "|      LTE_Cell_Load|[M8001C0, M8001C1...|[3, 294, 52, 0, 0...|[{M8001C0, 3}, {M...|\n",
      "| LTE_Transport_Load|[M8004C0, M8004C2...|[60537, 788296, 1...|[{M8004C0, 60537}...|\n",
      "|LTE_Pwr_and_Qual_UL|[M8005C345, M8005...|[-90, 1, 1, 4, 2,...|[{M8005C345, -90}...|\n",
      "|     LTE_EPS_Bearer|[M8006C181, M8006...|[6, 23, 2, 2, 0, ...|[{M8006C181, 6}, ...|\n",
      "|   LTE_Radio_Bearer|[M8007C0, M8007C1...|[38, 38, 1, 1, 1,...|[{M8007C0, 38}, {...|\n",
      "|            LTE_RRC|[M8008C1, M8008C3...|[20288, 16269, 2,...|[{M8008C1, 20288}...|\n",
      "|   LTE_Intra_eNB_HO|[M8009C0, M8009C1...|[1, 15, 0, 0, 0, ...|[{M8009C0, 1}, {M...|\n",
      "|LTE_Pwr_and_Qual_DL|[M8010C36, M8010C...|[26, 17, 114, 377...|[{M8010C36, 26}, ...|\n",
      "|  LTE_Cell_Resource|[M8011C86, M8011C...|[900, 900, 900, 9...|[{M8011C86, 900},...|\n",
      "|LTE_Cell_Throughput|[M8012C19, M8012C...|[188793, 5858527,...|[{M8012C19, 18879...|\n",
      "|       LTE_UE_State|[M8013C5, M8013C1...|[1, 3, 1, 1, 1, 1...|[{M8013C5, 1}, {M...|\n",
      "|   LTE_Inter_eNB_HO|[M8014C0, M8014C6...|[15, 15, 15, 4, 4...|[{M8014C0, 15}, {...|\n",
      "| LTE_Neighb_Cell_HO|[M8015C0, M8015C1...|[0, 0, 0, 0, 0, 0...|[{M8015C0, 0}, {M...|\n",
      "| LTE_Neighb_Cell_HO|[M8015C0, M8015C1...|[0, 0, 0, 0, 0, 0...|[{M8015C0, 0}, {M...|\n",
      "| LTE_Neighb_Cell_HO|[M8015C0, M8015C1...|[0, 0, 0, 0, 0, 0...|[{M8015C0, 0}, {M...|\n",
      "| LTE_Neighb_Cell_HO|[M8015C8, M8015C9...|[1, 1, 0, 0, 0, 0...|[{M8015C8, 1}, {M...|\n",
      "| LTE_Neighb_Cell_HO|[M8015C0, M8015C1...|[0, 0, 0, 0, 0, 0...|[{M8015C0, 0}, {M...|\n",
      "| LTE_Neighb_Cell_HO|[M8015C0, M8015C1...|[0, 0, 0, 0, 0, 0...|[{M8015C0, 0}, {M...|\n",
      "| LTE_Neighb_Cell_HO|[M8015C0, M8015C1...|[0, 0, 0, 0, 0, 0...|[{M8015C0, 0}, {M...|\n",
      "+-------------------+--------------------+--------------------+--------------------+\n",
      "only showing top 20 rows\n",
      "\n",
      "root\n",
      " |-- Meas_Info_Id: string (nullable = true)\n",
      " |-- Meas_Types: array (nullable = true)\n",
      " |    |-- element: string (containsNull = true)\n",
      " |-- Meas_Results: array (nullable = true)\n",
      " |    |-- element: string (containsNull = true)\n",
      " |-- Types&Results: array (nullable = true)\n",
      " |    |-- element: struct (containsNull = false)\n",
      " |    |    |-- Meas_Types: string (nullable = true)\n",
      " |    |    |-- Meas_Results: string (nullable = true)\n",
      "\n"
     ]
    },
    {
     "data": {
      "text/plain": [
       "df3: org.apache.spark.sql.DataFrame = [Meas_Info_Id: string, Meas_Types: array<string> ... 2 more fields]\n",
       "res10: Long = 157\n"
      ]
     },
     "execution_count": 12,
     "metadata": {},
     "output_type": "execute_result"
    }
   ],
   "source": [
    "val df3 = df2.select(col(\"*\"), functions.split(df2(\"measTypes\"), \" \").as(\"Meas_Types\"), functions.split(df2(\"measResults\"), \" \").as(\"Meas_Results\")).\n",
    "            withColumn(\"Types&Results\", arrays_zip(col(\"Meas_Types\"), col(\"Meas_Results\"))).\n",
    "            drop(\"measTypes\").drop(\"measResults\").withColumnRenamed(\"_measInfoId\", \"Meas_Info_Id\")\n",
    "df3.show()\n",
    "df3.printSchema()\n",
    "df3.count()"
   ]
  },
  {
   "cell_type": "code",
   "execution_count": 15,
   "id": "38e36f84",
   "metadata": {},
   "outputs": [
    {
     "name": "stdout",
     "output_type": "stream",
     "text": [
      "+------------+--------------------+--------------------+-----------------+\n",
      "|Meas_Info_Id|          Meas_Types|        Meas_Results|    Types&Results|\n",
      "+------------+--------------------+--------------------+-----------------+\n",
      "|    LTE_S1AP|[M8000C11, M8000C...|[20284, 0, 0, 0, ...|{M8000C11, 20284}|\n",
      "|    LTE_S1AP|[M8000C11, M8000C...|[20284, 0, 0, 0, ...|     {M8000C6, 0}|\n",
      "|    LTE_S1AP|[M8000C11, M8000C...|[20284, 0, 0, 0, ...|     {M8000C7, 0}|\n",
      "|    LTE_S1AP|[M8000C11, M8000C...|[20284, 0, 0, 0, ...|     {M8000C8, 0}|\n",
      "|    LTE_S1AP|[M8000C11, M8000C...|[20284, 0, 0, 0, ...|     {M8000C9, 0}|\n",
      "|    LTE_S1AP|[M8000C11, M8000C...|[20284, 0, 0, 0, ...|    {M8000C13, 0}|\n",
      "|    LTE_S1AP|[M8000C11, M8000C...|[20284, 0, 0, 0, ...|    {M8000C14, 0}|\n",
      "|    LTE_S1AP|[M8000C11, M8000C...|[20284, 0, 0, 0, ...|    {M8000C15, 0}|\n",
      "|    LTE_S1AP|[M8000C11, M8000C...|[20284, 0, 0, 0, ...|    {M8000C16, 0}|\n",
      "|    LTE_S1AP|[M8000C11, M8000C...|[20284, 0, 0, 0, ...|    {M8000C24, 0}|\n",
      "|    LTE_S1AP|[M8000C11, M8000C...|[20284, 0, 0, 0, ...|    {M8000C26, 0}|\n",
      "|    LTE_S1AP|[M8000C11, M8000C...|[20284, 0, 0, 0, ...|    {M8000C27, 0}|\n",
      "|    LTE_S1AP|[M8000C11, M8000C...|[20284, 0, 0, 0, ...|    {M8000C29, 0}|\n",
      "|    LTE_S1AP|[M8000C11, M8000C...|[20284, 0, 0, 0, ...|    {M8000C30, 0}|\n",
      "|    LTE_S1AP|[M8000C11, M8000C...|[20284, 0, 0, 0, ...|    {M8000C32, 0}|\n",
      "|    LTE_S1AP|[M8000C11, M8000C...|[20284, 0, 0, 0, ...|    {M8000C33, 0}|\n",
      "|    LTE_S1AP|[M8000C11, M8000C...|[20284, 0, 0, 0, ...|    {M8000C34, 0}|\n",
      "|    LTE_S1AP|[M8000C11, M8000C...|[20284, 0, 0, 0, ...|    {M8000C35, 0}|\n",
      "|    LTE_S1AP|[M8000C11, M8000C...|[20284, 0, 0, 0, ...|    {M8000C36, 0}|\n",
      "|    LTE_S1AP|[M8000C11, M8000C...|[20284, 0, 0, 0, ...|    {M8000C37, 0}|\n",
      "+------------+--------------------+--------------------+-----------------+\n",
      "only showing top 20 rows\n",
      "\n",
      "root\n",
      " |-- Meas_Info_Id: string (nullable = true)\n",
      " |-- Meas_Types: array (nullable = true)\n",
      " |    |-- element: string (containsNull = true)\n",
      " |-- Meas_Results: array (nullable = true)\n",
      " |    |-- element: string (containsNull = true)\n",
      " |-- Types&Results: struct (nullable = false)\n",
      " |    |-- Meas_Types: string (nullable = true)\n",
      " |    |-- Meas_Results: string (nullable = true)\n",
      "\n"
     ]
    },
    {
     "data": {
      "text/plain": [
       "df4: org.apache.spark.sql.DataFrame = [Meas_Info_Id: string, Meas_Types: array<string> ... 2 more fields]\n",
       "res13: Long = 4292\n"
      ]
     },
     "execution_count": 15,
     "metadata": {},
     "output_type": "execute_result"
    }
   ],
   "source": [
    "//val df4 = df3.withColumn(\"Meas_Types\",explode(col(\"Meas_Types\"))).withColumn(\"Meas_Results\",explode(col(\"Meas_Results\")))\n",
    "val df4 = df3.withColumn(\"Types&Results\",explode(col(\"Types&Results\")))\n",
    "df4.show()\n",
    "df4.printSchema()\n",
    "df4.count()"
   ]
  },
  {
   "cell_type": "code",
   "execution_count": 16,
   "id": "d213825b",
   "metadata": {},
   "outputs": [
    {
     "name": "stdout",
     "output_type": "stream",
     "text": [
      "+------------+----------+------------+\n",
      "|Meas_Info_Id|Meas_Types|Meas_Results|\n",
      "+------------+----------+------------+\n",
      "|    LTE_S1AP|  M8000C11|       20284|\n",
      "|    LTE_S1AP|   M8000C6|           0|\n",
      "|    LTE_S1AP|   M8000C7|           0|\n",
      "|    LTE_S1AP|   M8000C8|           0|\n",
      "|    LTE_S1AP|   M8000C9|           0|\n",
      "|    LTE_S1AP|  M8000C13|           0|\n",
      "|    LTE_S1AP|  M8000C14|           0|\n",
      "|    LTE_S1AP|  M8000C15|           0|\n",
      "|    LTE_S1AP|  M8000C16|           0|\n",
      "|    LTE_S1AP|  M8000C24|           0|\n",
      "|    LTE_S1AP|  M8000C26|           0|\n",
      "|    LTE_S1AP|  M8000C27|           0|\n",
      "|    LTE_S1AP|  M8000C29|           0|\n",
      "|    LTE_S1AP|  M8000C30|           0|\n",
      "|    LTE_S1AP|  M8000C32|           0|\n",
      "|    LTE_S1AP|  M8000C33|           0|\n",
      "|    LTE_S1AP|  M8000C34|           0|\n",
      "|    LTE_S1AP|  M8000C35|           0|\n",
      "|    LTE_S1AP|  M8000C36|           0|\n",
      "|    LTE_S1AP|  M8000C37|           0|\n",
      "+------------+----------+------------+\n",
      "only showing top 20 rows\n",
      "\n",
      "root\n",
      " |-- Meas_Info_Id: string (nullable = true)\n",
      " |-- Meas_Types: string (nullable = true)\n",
      " |-- Meas_Results: string (nullable = true)\n",
      "\n"
     ]
    },
    {
     "data": {
      "text/plain": [
       "df5: org.apache.spark.sql.DataFrame = [Meas_Info_Id: string, Meas_Types: string ... 1 more field]\n",
       "res14: Long = 4292\n"
      ]
     },
     "execution_count": 16,
     "metadata": {},
     "output_type": "execute_result"
    }
   ],
   "source": [
    "val df5 = df4.select(col(\"Meas_Info_Id\"),col(\"Types&Results.Meas_Types\"), col(\"Types&Results.Meas_Results\"))\n",
    "df5.show()\n",
    "df5.printSchema()\n",
    "df5.count()"
   ]
  },
  {
   "cell_type": "markdown",
   "id": "c43a476a",
   "metadata": {},
   "source": [
    "Save the dataframe to DB"
   ]
  },
  {
   "cell_type": "code",
   "execution_count": 6,
   "id": "ae15765f",
   "metadata": {},
   "outputs": [
    {
     "name": "stdout",
     "output_type": "stream",
     "text": [
      "Saved to database successfully !\n"
     ]
    },
    {
     "data": {
      "text/plain": [
       "import org.apache.spark.sql.SaveMode\n",
       "dbUrl: String = jdbc:postgresql://localhost:5432/DMS\n",
       "import java.util.Properties\n",
       "connectionProperties: java.util.Properties = {password=postgres, Driver=org.postgresql.Driver, user=postgres}\n"
      ]
     },
     "execution_count": 6,
     "metadata": {},
     "output_type": "execute_result"
    }
   ],
   "source": [
    "import org.apache.spark.sql.SaveMode;\n",
    "\n",
    "//JDBC initialization\n",
    "val dbUrl = \"jdbc:postgresql://localhost:5432/DMS\"\n",
    "import java.util.Properties\n",
    "val connectionProperties = new Properties()\n",
    "\n",
    "connectionProperties.put(\"user\", s\"postgres\")\n",
    "connectionProperties.put(\"password\", \"postgres\")\n",
    "connectionProperties.setProperty(\"Driver\", \"org.postgresql.Driver\")\n",
    "\n",
    "//Rename df columns and write into a postgres table\n",
    "df5.write\n",
    "  .mode(SaveMode.Overwrite)\n",
    "  .jdbc(dbUrl, \"Nokia_Networks\", connectionProperties)\n",
    "\n",
    "println(\"Saved to database successfully !\")"
   ]
  },
  {
   "cell_type": "code",
   "execution_count": 7,
   "id": "9bc4bb24",
   "metadata": {},
   "outputs": [
    {
     "name": "stdout",
     "output_type": "stream",
     "text": [
      "+------------+----------+------------+\n",
      "|Meas_Info_Id|Meas_Types|Meas_Results|\n",
      "+------------+----------+------------+\n",
      "|    LTE_S1AP|  M8000C11|       20284|\n",
      "|    LTE_S1AP|  M8000C11|           0|\n",
      "|    LTE_S1AP|  M8000C11|           0|\n",
      "|    LTE_S1AP|  M8000C11|           0|\n",
      "|    LTE_S1AP|  M8000C11|           0|\n",
      "|    LTE_S1AP|  M8000C11|           0|\n",
      "|    LTE_S1AP|  M8000C11|           0|\n",
      "|    LTE_S1AP|  M8000C11|           0|\n",
      "|    LTE_S1AP|  M8000C11|           0|\n",
      "|    LTE_S1AP|  M8000C11|           0|\n",
      "|    LTE_S1AP|  M8000C11|           0|\n",
      "|    LTE_S1AP|  M8000C11|           0|\n",
      "|    LTE_S1AP|  M8000C11|           0|\n",
      "|    LTE_S1AP|  M8000C11|           0|\n",
      "|    LTE_S1AP|  M8000C11|           0|\n",
      "|    LTE_S1AP|  M8000C11|           0|\n",
      "|    LTE_S1AP|  M8000C11|           0|\n",
      "|    LTE_S1AP|  M8000C11|           0|\n",
      "|    LTE_S1AP|  M8000C11|           0|\n",
      "|    LTE_S1AP|  M8000C11|           0|\n",
      "+------------+----------+------------+\n",
      "only showing top 20 rows\n",
      "\n"
     ]
    },
    {
     "data": {
      "text/plain": [
       "qry: String = (select * from Nokia_Networks) as nokia\n",
       "nkDf: org.apache.spark.sql.DataFrame = [Meas_Info_Id: string, Meas_Types: string ... 1 more field]\n"
      ]
     },
     "execution_count": 7,
     "metadata": {},
     "output_type": "execute_result"
    }
   ],
   "source": [
    "//Read table contents to verify\n",
    "val qry = \"(select * from Nokia_Networks) as nokia\"\n",
    "val nkDf = spark.read.jdbc(dbUrl, qry, connectionProperties)\n",
    "nkDf.show()"
   ]
  }
 ],
 "metadata": {
  "kernelspec": {
   "display_name": "spylon-kernel",
   "language": "scala",
   "name": "spylon-kernel"
  },
  "language_info": {
   "codemirror_mode": "text/x-scala",
   "file_extension": ".scala",
   "help_links": [
    {
     "text": "MetaKernel Magics",
     "url": "https://metakernel.readthedocs.io/en/latest/source/README.html"
    }
   ],
   "mimetype": "text/x-scala",
   "name": "scala",
   "pygments_lexer": "scala",
   "version": "0.4.1"
  }
 },
 "nbformat": 4,
 "nbformat_minor": 5
}
